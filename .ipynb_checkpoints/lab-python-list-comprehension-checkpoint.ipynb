{
 "cells": [
  {
   "cell_type": "markdown",
   "id": "25d7736c-ba17-4aff-b6bb-66eba20fbf4e",
   "metadata": {},
   "source": [
    "# Lab | List, Dict and Set Comprehension"
   ]
  },
  {
   "cell_type": "markdown",
   "id": "7dd3cbde-675a-4b81-92c3-f728846dbe06",
   "metadata": {},
   "source": [
    "## Exercise: Managing Customer Orders Optimized with Comprehension"
   ]
  },
  {
   "cell_type": "markdown",
   "id": "7a891aff-81ba-4bc3-95d4-28ddd51cd987",
   "metadata": {},
   "source": [
    "In the previous exercise, you developed a program to manage customer orders and inventory. Now, let's take it a step further and incorporate comprehension into your code.\n",
    "\n",
    "Follow the steps below to complete the exercise:\n",
    "\n",
    "1. Review your code from the previous exercise and identify areas where you can apply comprehension to simplify and streamline your code. \n",
    "\n",
    "    - *Hint: Apply it to initialize inventory, updating the inventory and printing the updated inventory.*\n",
    "    \n",
    "    - For example, in initializing the inventory, we could have:\n",
    "    \n",
    "        ```python\n",
    "        def initialize_inventory(products):\n",
    "            inventory = {product: int(input(f\"Enter the quantity of {product}s available: \")) for product in products}\n",
    "            return inventory\n",
    "\n",
    "        ```\n",
    "<br>\n",
    "    \n",
    "    \n",
    "2. Modify the function get_customer_orders so it prompts the user to enter the number of customer orders and gathers the product names using a loop and user input. Use comprehension.\n",
    "\n",
    "3. Add a new function to calculate the total price of the customer order. For each product in customer_orders, prompt the user to enter the price of that product. Use comprehension to calculate the total price. Note: assume that the user can only have 1 unit of each product.\n",
    "\n",
    "4. Modify the update_inventory function to remove the product from the inventory if its quantity becomes zero after fulfilling the customer orders. Use comprehension to filter out the products with a quantity of zero from the inventory.\n",
    "\n",
    "5. Print the total price of the customer order.\n",
    "\n",
    "Your code should produce output similar to the following:\n",
    "\n",
    "```python\n",
    "Enter the quantity of t-shirts available:  5\n",
    "Enter the quantity of mugs available:  4\n",
    "Enter the quantity of hats available:  3\n",
    "Enter the quantity of books available:  2\n",
    "Enter the quantity of keychains available:  1\n",
    "Enter the number of customer orders:  2\n",
    "Enter the name of a product that a customer wants to order:  hat\n",
    "Enter the name of a product that a customer wants to order:  keychain\n",
    "\n",
    "Order Statistics:\n",
    "Total Products Ordered: 2\n",
    "Percentage of Unique Products Ordered: 40.0\n",
    "\n",
    "Updated Inventory:\n",
    "t-shirt: 5\n",
    "mug: 4\n",
    "hat: 2\n",
    "book: 2\n",
    "Enter the price of keychain:  5\n",
    "Enter the price of hat:  10\n",
    "Total Price: 15.0\n",
    "\n",
    "```\n"
   ]
  },
  {
   "cell_type": "code",
   "execution_count": 1,
   "id": "23be56b8-e700-4bcc-8d30-aa676aa15024",
   "metadata": {},
   "outputs": [
    {
     "name": "stdin",
     "output_type": "stream",
     "text": [
      "Enter the quantity of t-shirts available:  5\n",
      "Enter the quantity of mugs available:  4\n",
      "Enter the quantity of hats available:  3\n",
      "Enter the quantity of books available:  2\n",
      "Enter the quantity of keychains available:  1\n"
     ]
    },
    {
     "data": {
      "text/plain": [
       "{'t-shirt': 5, 'mug': 4, 'hat': 3, 'book': 2, 'keychain': 1}"
      ]
     },
     "execution_count": 1,
     "metadata": {},
     "output_type": "execute_result"
    }
   ],
   "source": [
    "# 1. Review your code from the previous exercise and identify areas where you can apply comprehension to simplify and streamline your code.\n",
    "products = [\"t-shirt\", \"mug\", \"hat\", \"book\", \"keychain\"]\n",
    "inventory = {}\n",
    "def initialize_inventory(products):\n",
    "    inventory = {product: int(input(f\"Enter the quantity of {product}s available: \")) for product in products}\n",
    "    return inventory\n",
    "initialize_inventory(products)"
   ]
  },
  {
   "cell_type": "code",
   "execution_count": 5,
   "id": "86de6f9c-a6c8-4213-a7a0-782795ed853d",
   "metadata": {},
   "outputs": [
    {
     "name": "stdin",
     "output_type": "stream",
     "text": [
      "How many products:  5 \n",
      "What products:  mug\n",
      "What products:  hat\n",
      "What products:  book\n",
      "What products:  mug\n",
      "What products:  hat\n"
     ]
    },
    {
     "data": {
      "text/plain": [
       "{'book', 'hat', 'mug'}"
      ]
     },
     "execution_count": 5,
     "metadata": {},
     "output_type": "execute_result"
    }
   ],
   "source": [
    "# 2. Modify the function get_customer_orders so it prompts the user to enter the number of customer orders and gathers the product names using a loop and user input. Use comprehension.\n",
    "# cambio la funcion del while a for \n",
    "\n",
    "def get_customer_orders():\n",
    "    customer_orders = set()\n",
    "    pedido = int(input(\"How many products: \"))\n",
    "    for x in range(pedido):\n",
    "        customer_orders.add(input(\"What products: \"))\n",
    "    return customer_orders\n",
    "get_customer_orders()   "
   ]
  },
  {
   "cell_type": "code",
   "execution_count": 3,
   "id": "5bef3e71-d3e5-42e6-bd85-1a00a398c62f",
   "metadata": {},
   "outputs": [
    {
     "name": "stdin",
     "output_type": "stream",
     "text": [
      "How many products:  5\n",
      "What products:  hat\n",
      "What products:  book\n",
      "What products:  mug\n",
      "What products:  hat\n",
      "What products:  book\n"
     ]
    },
    {
     "data": {
      "text/plain": [
       "{'book', 'hat', 'mug'}"
      ]
     },
     "execution_count": 3,
     "metadata": {},
     "output_type": "execute_result"
    }
   ],
   "source": [
    "# 2. Modify the function get_customer_orders so it prompts the user to enter the number of customer orders and gathers the product names using a loop and user input. Use comprehension.\n",
    "\n",
    "customer_orders = set()\n",
    "def get_customer_orders():\n",
    "    pedido = int(input(\"How many products: \"))\n",
    "    customer_orders= set(input(\"What products: \")for _ in range(pedido)) # solo puedo poner con comprehension esta linea con el for \n",
    "    return customer_orders\n",
    "get_customer_orders()      "
   ]
  },
  {
   "cell_type": "code",
   "execution_count": 4,
   "id": "e71ec89e-a8d4-4b00-840a-8f115f1487ac",
   "metadata": {},
   "outputs": [
    {
     "name": "stdin",
     "output_type": "stream",
     "text": [
      "What is the price for: book?  22.5\n",
      "What is the price for: mug?  5\n",
      "What is the price for: hat?  16\n"
     ]
    },
    {
     "data": {
      "text/plain": [
       "43.5"
      ]
     },
     "execution_count": 4,
     "metadata": {},
     "output_type": "execute_result"
    }
   ],
   "source": [
    "##### 3. Add a new function to calculate the total price of the customer order. For each product in customer_orders, prompt the user to enter the price of that product. Use comprehension to calculate the total price. Note: assume that the user can only have 1 unit of each product.\n",
    "precios = []\n",
    "customer_orders = {'book', 'hat', 'mug'}\n",
    "def calculate_the_total_price():\n",
    "    for e in customer_orders:\n",
    "        precio = precios.append(float(input(f\"What is the price for: {e}? \")))\n",
    "        total = sum(precios)\n",
    "    return total\n",
    "calculate_the_total_price()    "
   ]
  },
  {
   "cell_type": "code",
   "execution_count": 2,
   "id": "5f36506f-dbcc-4a8e-85a6-66e702766f44",
   "metadata": {},
   "outputs": [
    {
     "name": "stdin",
     "output_type": "stream",
     "text": [
      "What is the price for product?:  22.5\n",
      "What is the price for product?:  5\n",
      "What is the price for product?:  16\n"
     ]
    },
    {
     "data": {
      "text/plain": [
       "43.5"
      ]
     },
     "execution_count": 2,
     "metadata": {},
     "output_type": "execute_result"
    }
   ],
   "source": [
    "customer_orders = {'book', 'hat', 'mug'}\n",
    "def calculate_the_total_price():\n",
    "    total_precios =  sum([float(input(\"What is the price for product?: \")) for e in range(len(customer_orders))])\n",
    "    return total_precios\n",
    "calculate_the_total_price()"
   ]
  },
  {
   "cell_type": "code",
   "execution_count": 12,
   "id": "02cc356c-24b0-467d-bdb4-21779d7b2e49",
   "metadata": {},
   "outputs": [
    {
     "data": {
      "text/plain": [
       "{'t-shirt': 5, 'mug': 3, 'hat': 2, 'book': 1, 'keychain': 1}"
      ]
     },
     "execution_count": 12,
     "metadata": {},
     "output_type": "execute_result"
    }
   ],
   "source": [
    "# 4. Modify the update_inventory function to remove the product from the inventory if its quantity becomes zero after fulfilling the customer orders. Use comprehension to filter out the products with a quantity of zero from the inventory.\n",
    "def update_inventory(customer_orders,inventory):\n",
    "    for product in customer_orders:\n",
    "        inventory[product] = inventory[product]-1\n",
    "    return(inventory)\n",
    "\n",
    "inventory = {'t-shirt': 5, 'mug': 4, 'hat': 3, 'book': 2, 'keychain': 1}\n",
    "customer_orders = {'book', 'hat', 'mug'}\n",
    "update_inventory(customer_orders,inventory)"
   ]
  },
  {
   "cell_type": "code",
   "execution_count": 16,
   "id": "a0ce77be-f9f0-466a-ac52-ccf6c994e141",
   "metadata": {},
   "outputs": [
    {
     "data": {
      "text/plain": [
       "{'book': 1, 'mug': 3, 'hat': 2}"
      ]
     },
     "execution_count": 16,
     "metadata": {},
     "output_type": "execute_result"
    }
   ],
   "source": [
    "def update_inventory(customer_orders,inventory):\n",
    "    updated_inventory = {product: inventory.get(product, 0) - 1 for product in customer_orders}\n",
    "\n",
    "    return(updated_inventory)\n",
    "\n",
    "inventory = {'t-shirt': 5, 'mug': 4, 'hat': 3, 'book': 2, 'keychain': 1}\n",
    "customer_orders = {'book', 'hat', 'mug'}\n",
    "update_inventory(customer_orders,inventory)\n",
    "    "
   ]
  },
  {
   "cell_type": "code",
   "execution_count": 28,
   "id": "e4d22a7d-569a-4218-96cc-24dc6b2f203a",
   "metadata": {},
   "outputs": [
    {
     "name": "stdin",
     "output_type": "stream",
     "text": [
      "What is the price for product?:  45\n",
      "What is the price for product?:  65\n",
      "What is the price for product?:  85\n"
     ]
    },
    {
     "name": "stdout",
     "output_type": "stream",
     "text": [
      "precio total:  195.0\n"
     ]
    },
    {
     "data": {
      "text/plain": [
       "195.0"
      ]
     },
     "execution_count": 28,
     "metadata": {},
     "output_type": "execute_result"
    }
   ],
   "source": [
    "# 5. Print the total price of the customer order.\n",
    "customer_orders = {'book', 'hat', 'mug'}\n",
    "def calculate_the_total_price():\n",
    "    total_precios =  sum([float(input(\"What is the price for product?: \")) for _ in range(len(customer_orders))])\n",
    "    print(\"precio total: \", total_precios)\n",
    "    return total_precios\n",
    "calculate_the_total_price()"
   ]
  },
  {
   "cell_type": "code",
   "execution_count": null,
   "id": "f03541e9-23f2-4337-8cca-366575a7686f",
   "metadata": {},
   "outputs": [],
   "source": []
  }
 ],
 "metadata": {
  "kernelspec": {
   "display_name": "Python 3 (ipykernel)",
   "language": "python",
   "name": "python3"
  },
  "language_info": {
   "codemirror_mode": {
    "name": "ipython",
    "version": 3
   },
   "file_extension": ".py",
   "mimetype": "text/x-python",
   "name": "python",
   "nbconvert_exporter": "python",
   "pygments_lexer": "ipython3",
   "version": "3.11.7"
  }
 },
 "nbformat": 4,
 "nbformat_minor": 5
}
